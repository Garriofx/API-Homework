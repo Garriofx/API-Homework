{
 "cells": [
  {
   "cell_type": "markdown",
   "metadata": {},
   "source": [
    "# Unit 5 - Financial Planning\n"
   ]
  },
  {
   "cell_type": "code",
   "execution_count": 1,
   "metadata": {},
   "outputs": [],
   "source": [
    "#initial imports\n",
    "import os\n",
    "import requests\n",
    "import pandas as pd\n",
    "from dotenv import load_dotenv\n",
    "import alpaca_trade_api as tradeapi\n",
    "from MCForecastTools import MCSimulation\n",
    "\n",
    "%matplotlib inline"
   ]
  },
  {
   "cell_type": "code",
   "execution_count": 2,
   "metadata": {},
   "outputs": [
    {
     "data": {
      "text/plain": [
       "True"
      ]
     },
     "execution_count": 2,
     "metadata": {},
     "output_type": "execute_result"
    }
   ],
   "source": [
    "# Load .env enviroment variables\n",
    "load_dotenv()"
   ]
  },
  {
   "cell_type": "markdown",
   "metadata": {},
   "source": [
    "## Part 1 - Personal Finance Planner"
   ]
  },
  {
   "cell_type": "markdown",
   "metadata": {},
   "source": [
    "### Collect Crypto Prices Using the `requests` Library"
   ]
  },
  {
   "cell_type": "code",
   "execution_count": 3,
   "metadata": {},
   "outputs": [],
   "source": [
    "# Set current amount of crypto assets\n",
    "my_btc = 1.2\n",
    "my_eth = 5.3"
   ]
  },
  {
   "cell_type": "code",
   "execution_count": 4,
   "metadata": {},
   "outputs": [],
   "source": [
    "# Crypto API URLs\n",
    "btc_url = \"https://api.alternative.me/v2/ticker/Bitcoin/?convert=CAD\"\n",
    "eth_url = \"https://api.alternative.me/v2/ticker/Ethereum/?convert=CAD\""
   ]
  },
  {
   "cell_type": "code",
   "execution_count": 17,
   "metadata": {},
   "outputs": [
    {
     "name": "stdout",
     "output_type": "stream",
     "text": [
      "{\n",
      "    \"data\": {\n",
      "        \"1\": {\n",
      "            \"id\": 1,\n",
      "            \"name\": \"Bitcoin\",\n",
      "            \"symbol\": \"BTC\",\n",
      "            \"website_slug\": \"bitcoin\",\n",
      "            \"rank\": 1,\n",
      "            \"circulating_supply\": 18713700,\n",
      "            \"total_supply\": 18713700,\n",
      "            \"max_supply\": 21000000,\n",
      "            \"quotes\": {\n",
      "                \"USD\": {\n",
      "                    \"price\": 35532.0,\n",
      "                    \"volume_24h\": 87697454230,\n",
      "                    \"market_cap\": 664926408483,\n",
      "                    \"percentage_change_1h\": 1.01426526307882,\n",
      "                    \"percentage_change_24h\": -5.30871783558448,\n",
      "                    \"percentage_change_7d\": -23.7276335475747,\n",
      "                    \"percent_change_1h\": 1.01426526307882,\n",
      "                    \"percent_change_24h\": -5.30871783558448,\n",
      "                    \"percent_change_7d\": -23.7276335475747\n",
      "                },\n",
      "                \"CAD\": {\n",
      "                    \"price\": 42897.7836,\n",
      "                    \"volume_24h\": 105877136491.879,\n",
      "                    \"market_cap\": 802765652961.526,\n",
      "                    \"percent_change_1h\": 1.01426526307882,\n",
      "                    \"percent_change_24h\": -5.30871783558448,\n",
      "                    \"percent_change_7d\": -23.7276335475747\n",
      "                }\n",
      "            },\n",
      "            \"last_updated\": 1621825649\n",
      "        }\n",
      "    },\n",
      "    \"metadata\": {\n",
      "        \"timestamp\": 1621825649,\n",
      "        \"num_cryptocurrencies\": 1299,\n",
      "        \"error\": null\n",
      "    }\n",
      "}\n",
      "{\n",
      "    \"data\": {\n",
      "        \"1027\": {\n",
      "            \"id\": 1027,\n",
      "            \"name\": \"Ethereum\",\n",
      "            \"symbol\": \"ETH\",\n",
      "            \"website_slug\": \"ethereum\",\n",
      "            \"rank\": 2,\n",
      "            \"circulating_supply\": 115999653,\n",
      "            \"total_supply\": 115999653,\n",
      "            \"max_supply\": 0,\n",
      "            \"quotes\": {\n",
      "                \"USD\": {\n",
      "                    \"price\": 2178.62,\n",
      "                    \"volume_24h\": 82263594537,\n",
      "                    \"market_cap\": 252719555193,\n",
      "                    \"percentage_change_1h\": 3.33082565937092,\n",
      "                    \"percentage_change_24h\": -5.27074345564635,\n",
      "                    \"percentage_change_7d\": -39.516368330798,\n",
      "                    \"percent_change_1h\": 3.33082565937092,\n",
      "                    \"percent_change_24h\": -5.27074345564635,\n",
      "                    \"percent_change_7d\": -39.516368330798\n",
      "                },\n",
      "                \"CAD\": {\n",
      "                    \"price\": 2630.247926,\n",
      "                    \"volume_24h\": 99316837684.5201,\n",
      "                    \"market_cap\": 305108318984.509,\n",
      "                    \"percent_change_1h\": 3.33082565937092,\n",
      "                    \"percent_change_24h\": -5.27074345564635,\n",
      "                    \"percent_change_7d\": -39.516368330798\n",
      "                }\n",
      "            },\n",
      "            \"last_updated\": 1621825752\n",
      "        }\n",
      "    },\n",
      "    \"metadata\": {\n",
      "        \"timestamp\": 1621825752,\n",
      "        \"num_cryptocurrencies\": 1299,\n",
      "        \"error\": null\n",
      "    }\n",
      "}\n"
     ]
    }
   ],
   "source": [
    "#response_data = requests.get(btc_url).json\n",
    "response_data_btc = requests.get(btc_url)\n",
    "response_data_btc\n",
    "response_content_btc = response_data_btc.content\n",
    "response_content_btc\n",
    "data_btc = response_data_btc.json()\n",
    "import json\n",
    "print(json.dumps(data_btc, indent=4))\n",
    "response_data_eth = requests.get(eth_url)\n",
    "response_content_eth = response_data_eth.content\n",
    "data_eth = response_data_eth.json()\n",
    "import json\n",
    "print(json.dumps(data_eth, indent=4))"
   ]
  },
  {
   "cell_type": "code",
   "execution_count": 18,
   "metadata": {},
   "outputs": [
    {
     "name": "stdout",
     "output_type": "stream",
     "text": [
      "The current value of your 1.2 BTC is $42638.40\n",
      "The current value of your 5.3 ETH is $11546.69\n"
     ]
    }
   ],
   "source": [
    "# Fetch BTC price\n",
    "btc_resp = requests.get(btc_url)\n",
    "btc_json = btc_resp.json()\n",
    "btc_price = btc_json['data']['1']['quotes']['USD']['price']\n",
    "\n",
    "# Fetch ETH price\n",
    "eth_resp = requests.get(eth_url)\n",
    "eth_json = eth_resp.json()\n",
    "eth_price = eth_json['data']['1027']['quotes']['USD']['price']\n",
    "\n",
    "# Compute current value of my crpto\n",
    "my_btc_value = my_btc * btc_price\n",
    "my_eth_value = my_eth * eth_price\n",
    "\n",
    "# Print current crypto wallet balance\n",
    "print(f\"The current value of your {my_btc} BTC is ${my_btc_value:0.2f}\")\n",
    "print(f\"The current value of your {my_eth} ETH is ${my_eth_value:0.2f}\")"
   ]
  },
  {
   "cell_type": "markdown",
   "metadata": {},
   "source": [
    "### Collect Investments Data Using Alpaca: `SPY` (stocks) and `AGG` (bonds)"
   ]
  },
  {
   "cell_type": "code",
   "execution_count": 14,
   "metadata": {},
   "outputs": [],
   "source": [
    "# Current amount of shares\n",
    "my_agg = 200\n",
    "my_spy = 50"
   ]
  },
  {
   "cell_type": "code",
   "execution_count": 20,
   "metadata": {},
   "outputs": [],
   "source": [
    "#Set Alpaca API and secret\n",
    "alpaca_api_key = os.getenv(\"ALPACA_API_KEY\")\n",
    "alpaca_secret_key = os.getenv(\"ALPACA_SECRET_KEY\")\n",
    "\n",
    "# Create the Alpaca API object\n",
    "api = tradeapi.REST(alpaca_api_key, alpaca_secret_key, api_version = \"v2\")"
   ]
  },
  {
   "cell_type": "markdown",
   "metadata": {},
   "source": [
    "### Collect Investments Data Using Alpaca: `SPY` (stocks) and `AGG` (bonds)"
   ]
  },
  {
   "cell_type": "code",
   "execution_count": 25,
   "metadata": {},
   "outputs": [
    {
     "data": {
      "text/html": [
       "<div>\n",
       "<style scoped>\n",
       "    .dataframe tbody tr th:only-of-type {\n",
       "        vertical-align: middle;\n",
       "    }\n",
       "\n",
       "    .dataframe tbody tr th {\n",
       "        vertical-align: top;\n",
       "    }\n",
       "\n",
       "    .dataframe thead tr th {\n",
       "        text-align: left;\n",
       "    }\n",
       "\n",
       "    .dataframe thead tr:last-of-type th {\n",
       "        text-align: right;\n",
       "    }\n",
       "</style>\n",
       "<table border=\"1\" class=\"dataframe\">\n",
       "  <thead>\n",
       "    <tr>\n",
       "      <th></th>\n",
       "      <th colspan=\"5\" halign=\"left\">AGG</th>\n",
       "      <th colspan=\"5\" halign=\"left\">SPY</th>\n",
       "    </tr>\n",
       "    <tr>\n",
       "      <th></th>\n",
       "      <th>open</th>\n",
       "      <th>high</th>\n",
       "      <th>low</th>\n",
       "      <th>close</th>\n",
       "      <th>volume</th>\n",
       "      <th>open</th>\n",
       "      <th>high</th>\n",
       "      <th>low</th>\n",
       "      <th>close</th>\n",
       "      <th>volume</th>\n",
       "    </tr>\n",
       "    <tr>\n",
       "      <th>time</th>\n",
       "      <th></th>\n",
       "      <th></th>\n",
       "      <th></th>\n",
       "      <th></th>\n",
       "      <th></th>\n",
       "      <th></th>\n",
       "      <th></th>\n",
       "      <th></th>\n",
       "      <th></th>\n",
       "      <th></th>\n",
       "    </tr>\n",
       "  </thead>\n",
       "  <tbody>\n",
       "    <tr>\n",
       "      <th>2021-05-20 00:00:00-04:00</th>\n",
       "      <td>114.08</td>\n",
       "      <td>114.3</td>\n",
       "      <td>114.08</td>\n",
       "      <td>114.29</td>\n",
       "      <td>5647134</td>\n",
       "      <td>411.8</td>\n",
       "      <td>416.625</td>\n",
       "      <td>411.67</td>\n",
       "      <td>415.24</td>\n",
       "      <td>69427475</td>\n",
       "    </tr>\n",
       "  </tbody>\n",
       "</table>\n",
       "</div>"
      ],
      "text/plain": [
       "                              AGG                                    SPY  \\\n",
       "                             open   high     low   close   volume   open   \n",
       "time                                                                       \n",
       "2021-05-20 00:00:00-04:00  114.08  114.3  114.08  114.29  5647134  411.8   \n",
       "\n",
       "                                                              \n",
       "                              high     low   close    volume  \n",
       "time                                                          \n",
       "2021-05-20 00:00:00-04:00  416.625  411.67  415.24  69427475  "
      ]
     },
     "execution_count": 25,
     "metadata": {},
     "output_type": "execute_result"
    }
   ],
   "source": [
    "# Format current date as ISO format\n",
    "today = pd.Timestamp(\"2021-05-20\", tz=\"America/New_York\").isoformat()\n",
    "# Set the tickers\n",
    "tickers = [\"AGG\", \"SPY\"]\n",
    "# Set timeframe to '1D' for Alpaca API\n",
    "timeframe = \"1D\"\n",
    "# Get current closing prices for SPY and AGG\n",
    "df_portfolio = api.get_barset( tickers, timeframe, start=today, end=today,).df\n",
    "# Drop the time component of the date\n",
    "#df_portfolio.index = df_portfolio.index.date\n",
    "# Preview DataFrame\n",
    "df_portfolio.head()"
   ]
  },
  {
   "cell_type": "code",
   "execution_count": 26,
   "metadata": {},
   "outputs": [
    {
     "name": "stdout",
     "output_type": "stream",
     "text": [
      "Current AGG closing price: $114.29\n",
      "Current SPY closing price: $415.24\n"
     ]
    }
   ],
   "source": [
    "# Pick AGG and SPY close prices\n",
    "agg_close_price = float(df_portfolio[\"AGG\"][\"close\"])\n",
    "spy_close_price = float(df_portfolio[\"SPY\"][\"close\"])\n",
    "\n",
    "# Print AGG and SPY close prices\n",
    "print(f\"Current AGG closing price: ${agg_close_price}\")\n",
    "print(f\"Current SPY closing price: ${spy_close_price}\")"
   ]
  },
  {
   "cell_type": "code",
   "execution_count": 27,
   "metadata": {},
   "outputs": [
    {
     "name": "stdout",
     "output_type": "stream",
     "text": [
      "The current value of your 50 SPY shares is $20762.00\n",
      "The current value of your 200 AGG shares is $22858.00\n"
     ]
    }
   ],
   "source": [
    "# Compute the current value of shares\n",
    "my_agg_value = my_agg * agg_close_price \n",
    "my_spy_value = my_spy * spy_close_price \n",
    "\n",
    "# Print current value of share\n",
    "print(f\"The current value of your {my_spy} SPY shares is ${my_spy_value:0.2f}\")\n",
    "print(f\"The current value of your {my_agg} AGG shares is ${my_agg_value:0.2f}\")"
   ]
  },
  {
   "cell_type": "markdown",
   "metadata": {},
   "source": [
    "### Savings Health Analysis"
   ]
  },
  {
   "cell_type": "code",
   "execution_count": 28,
   "metadata": {},
   "outputs": [
    {
     "data": {
      "text/html": [
       "<div>\n",
       "<style scoped>\n",
       "    .dataframe tbody tr th:only-of-type {\n",
       "        vertical-align: middle;\n",
       "    }\n",
       "\n",
       "    .dataframe tbody tr th {\n",
       "        vertical-align: top;\n",
       "    }\n",
       "\n",
       "    .dataframe thead th {\n",
       "        text-align: right;\n",
       "    }\n",
       "</style>\n",
       "<table border=\"1\" class=\"dataframe\">\n",
       "  <thead>\n",
       "    <tr style=\"text-align: right;\">\n",
       "      <th></th>\n",
       "      <th>amount</th>\n",
       "    </tr>\n",
       "  </thead>\n",
       "  <tbody>\n",
       "    <tr>\n",
       "      <th>crypto</th>\n",
       "      <td>54185.086</td>\n",
       "    </tr>\n",
       "    <tr>\n",
       "      <th>shares</th>\n",
       "      <td>43620.000</td>\n",
       "    </tr>\n",
       "  </tbody>\n",
       "</table>\n",
       "</div>"
      ],
      "text/plain": [
       "           amount\n",
       "crypto  54185.086\n",
       "shares  43620.000"
      ]
     },
     "metadata": {},
     "output_type": "display_data"
    }
   ],
   "source": [
    "# Set monthly household income\n",
    "monthly_income = 12000\n",
    "total_crypto = my_btc_value + my_eth_value\n",
    "total_shares_value = my_agg_value + my_spy_value\n",
    "data = {'amount':[total_crypto, total_shares_value]} \n",
    "\n",
    "# Creates pandas DataFrame. \n",
    "df_savings = pd.DataFrame(data, index =['crypto', 'shares']) \n",
    "\n",
    "# print the data \n",
    "df_savings\n",
    "\n",
    "# Create savings DataFrame\n",
    "# YOUR CODE HERE!\n",
    "\n",
    "# Display savings DataFrame\n",
    "display(df_savings)"
   ]
  },
  {
   "cell_type": "code",
   "execution_count": 29,
   "metadata": {},
   "outputs": [
    {
     "data": {
      "text/plain": [
       "<AxesSubplot:title={'center':'Composition of Personal Savings'}, ylabel='amount'>"
      ]
     },
     "execution_count": 29,
     "metadata": {},
     "output_type": "execute_result"
    },
    {
     "data": {
      "image/png": "[encoded data removed]",
      "text/plain": [
       "<Figure size 432x288 with 1 Axes>"
      ]
     },
     "metadata": {},
     "output_type": "display_data"
    }
   ],
   "source": [
    "# Plot savings pie chart\n",
    "df_savings.plot.pie(y=\"amount\", title=\"Composition of Personal Savings\")"
   ]
  },
  {
   "cell_type": "code",
   "execution_count": 30,
   "metadata": {},
   "outputs": [
    {
     "name": "stdout",
     "output_type": "stream",
     "text": [
      "Congratuations! You have enough money in your emergency fund.\n"
     ]
    }
   ],
   "source": [
    "# Set ideal emergency fund\n",
    "emergency_fund = monthly_income * 3\n",
    "# Calculate total amount of savings\n",
    "total_savings = total_crypto + total_shares_value\n",
    "\n",
    "# Validate saving health\n",
    "if emergency_fund < total_savings:\n",
    "        print(\"Congratuations! You have enough money in your emergency fund.\")\n",
    "elif emergency_fund == total_savings:\n",
    "        print(\"Congratulations! You have reach this financial goal\")\n",
    "else:\n",
    "        print(f\"You are {emergency_fund - total_savings} dollars away from reaching the goal\")"
   ]
  },
  {
   "cell_type": "markdown",
   "metadata": {},
   "source": [
    "## Part 2 - Retirement Planning\n",
    "\n",
    "### Monte Carlo Simulation"
   ]
  },
  {
   "cell_type": "code",
   "execution_count": 36,
   "metadata": {},
   "outputs": [],
   "source": [
    "# Set start and end dates of five years back from today.\n",
    "# Sample results may vary from the solution based on the time frame chosen\n",
    "start_date = pd.Timestamp('2021-05-17', tz='America/New_York').isoformat()\n",
    "end_date = pd.Timestamp('2021-05-21', tz='America/New_York').isoformat()"
   ]
  },
  {
   "cell_type": "code",
   "execution_count": 37,
   "metadata": {},
   "outputs": [
    {
     "data": {
      "text/html": [
       "<div>\n",
       "<style scoped>\n",
       "    .dataframe tbody tr th:only-of-type {\n",
       "        vertical-align: middle;\n",
       "    }\n",
       "\n",
       "    .dataframe tbody tr th {\n",
       "        vertical-align: top;\n",
       "    }\n",
       "\n",
       "    .dataframe thead tr th {\n",
       "        text-align: left;\n",
       "    }\n",
       "</style>\n",
       "<table border=\"1\" class=\"dataframe\">\n",
       "  <thead>\n",
       "    <tr>\n",
       "      <th></th>\n",
       "      <th colspan=\"5\" halign=\"left\">AGG</th>\n",
       "      <th colspan=\"5\" halign=\"left\">SPY</th>\n",
       "    </tr>\n",
       "    <tr>\n",
       "      <th></th>\n",
       "      <th>open</th>\n",
       "      <th>high</th>\n",
       "      <th>low</th>\n",
       "      <th>close</th>\n",
       "      <th>volume</th>\n",
       "      <th>open</th>\n",
       "      <th>high</th>\n",
       "      <th>low</th>\n",
       "      <th>close</th>\n",
       "      <th>volume</th>\n",
       "    </tr>\n",
       "  </thead>\n",
       "  <tbody>\n",
       "    <tr>\n",
       "      <th>2021-05-17</th>\n",
       "      <td>114.21</td>\n",
       "      <td>115.4999</td>\n",
       "      <td>111.26</td>\n",
       "      <td>114.165</td>\n",
       "      <td>3852318</td>\n",
       "      <td>415.39</td>\n",
       "      <td>416.390</td>\n",
       "      <td>413.360</td>\n",
       "      <td>415.55</td>\n",
       "      <td>57714535</td>\n",
       "    </tr>\n",
       "    <tr>\n",
       "      <th>2021-05-18</th>\n",
       "      <td>114.11</td>\n",
       "      <td>114.1100</td>\n",
       "      <td>114.03</td>\n",
       "      <td>114.070</td>\n",
       "      <td>3499293</td>\n",
       "      <td>415.80</td>\n",
       "      <td>416.060</td>\n",
       "      <td>411.770</td>\n",
       "      <td>411.99</td>\n",
       "      <td>52318865</td>\n",
       "    </tr>\n",
       "    <tr>\n",
       "      <th>2021-05-19</th>\n",
       "      <td>114.62</td>\n",
       "      <td>114.6200</td>\n",
       "      <td>113.79</td>\n",
       "      <td>113.920</td>\n",
       "      <td>6576312</td>\n",
       "      <td>406.92</td>\n",
       "      <td>411.050</td>\n",
       "      <td>405.335</td>\n",
       "      <td>410.90</td>\n",
       "      <td>94165741</td>\n",
       "    </tr>\n",
       "    <tr>\n",
       "      <th>2021-05-20</th>\n",
       "      <td>114.08</td>\n",
       "      <td>114.3000</td>\n",
       "      <td>114.08</td>\n",
       "      <td>114.290</td>\n",
       "      <td>5647134</td>\n",
       "      <td>411.80</td>\n",
       "      <td>416.625</td>\n",
       "      <td>411.670</td>\n",
       "      <td>415.24</td>\n",
       "      <td>69426295</td>\n",
       "    </tr>\n",
       "    <tr>\n",
       "      <th>2021-05-21</th>\n",
       "      <td>114.36</td>\n",
       "      <td>114.4000</td>\n",
       "      <td>114.23</td>\n",
       "      <td>114.320</td>\n",
       "      <td>3350907</td>\n",
       "      <td>416.87</td>\n",
       "      <td>418.200</td>\n",
       "      <td>414.450</td>\n",
       "      <td>414.95</td>\n",
       "      <td>66392970</td>\n",
       "    </tr>\n",
       "  </tbody>\n",
       "</table>\n",
       "</div>"
      ],
      "text/plain": [
       "               AGG                                         SPY           \\\n",
       "              open      high     low    close   volume    open     high   \n",
       "2021-05-17  114.21  115.4999  111.26  114.165  3852318  415.39  416.390   \n",
       "2021-05-18  114.11  114.1100  114.03  114.070  3499293  415.80  416.060   \n",
       "2021-05-19  114.62  114.6200  113.79  113.920  6576312  406.92  411.050   \n",
       "2021-05-20  114.08  114.3000  114.08  114.290  5647134  411.80  416.625   \n",
       "2021-05-21  114.36  114.4000  114.23  114.320  3350907  416.87  418.200   \n",
       "\n",
       "                                       \n",
       "                low   close    volume  \n",
       "2021-05-17  413.360  415.55  57714535  \n",
       "2021-05-18  411.770  411.99  52318865  \n",
       "2021-05-19  405.335  410.90  94165741  \n",
       "2021-05-20  411.670  415.24  69426295  \n",
       "2021-05-21  414.450  414.95  66392970  "
      ]
     },
     "execution_count": 37,
     "metadata": {},
     "output_type": "execute_result"
    }
   ],
   "source": [
    "# Get 5 years' worth of historical data for SPY and AGG\n",
    "tickers = [\"AGG\",\"SPY\"]\n",
    "df_stock_data = api.get_barset(tickers, timeframe, start=start_date, end=end_date).df\n",
    "\n",
    "# Drop the time component of the date\n",
    "df_stock_data.index = df_stock_data.index.date\n",
    "# Display sample data\n",
    "df_stock_data.head()"
   ]
  },
  {
   "cell_type": "code",
   "execution_count": 39,
   "metadata": {},
   "outputs": [],
   "source": [
    "# Configuring a Monte Carlo simulation to forecast 30 years cumulative returns\n",
    "MC_even_dist = MCSimulation(portfolio_data = df_stock_data, weights = [.40,.60], num_simulation = 500, num_trading_days = 252*30)"
   ]
  },
  {
   "cell_type": "code",
   "execution_count": 41,
   "metadata": {},
   "outputs": [
    {
     "data": {
      "text/html": [
       "<div>\n",
       "<style scoped>\n",
       "    .dataframe tbody tr th:only-of-type {\n",
       "        vertical-align: middle;\n",
       "    }\n",
       "\n",
       "    .dataframe tbody tr th {\n",
       "        vertical-align: top;\n",
       "    }\n",
       "\n",
       "    .dataframe thead tr th {\n",
       "        text-align: left;\n",
       "    }\n",
       "</style>\n",
       "<table border=\"1\" class=\"dataframe\">\n",
       "  <thead>\n",
       "    <tr>\n",
       "      <th></th>\n",
       "      <th colspan=\"6\" halign=\"left\">AGG</th>\n",
       "      <th colspan=\"6\" halign=\"left\">SPY</th>\n",
       "    </tr>\n",
       "    <tr>\n",
       "      <th></th>\n",
       "      <th>open</th>\n",
       "      <th>high</th>\n",
       "      <th>low</th>\n",
       "      <th>close</th>\n",
       "      <th>volume</th>\n",
       "      <th>daily_return</th>\n",
       "      <th>open</th>\n",
       "      <th>high</th>\n",
       "      <th>low</th>\n",
       "      <th>close</th>\n",
       "      <th>volume</th>\n",
       "      <th>daily_return</th>\n",
       "    </tr>\n",
       "  </thead>\n",
       "  <tbody>\n",
       "    <tr>\n",
       "      <th>2021-05-17</th>\n",
       "      <td>114.21</td>\n",
       "      <td>115.4999</td>\n",
       "      <td>111.26</td>\n",
       "      <td>114.165</td>\n",
       "      <td>3852318</td>\n",
       "      <td>NaN</td>\n",
       "      <td>415.39</td>\n",
       "      <td>416.390</td>\n",
       "      <td>413.360</td>\n",
       "      <td>415.55</td>\n",
       "      <td>57714535</td>\n",
       "      <td>NaN</td>\n",
       "    </tr>\n",
       "    <tr>\n",
       "      <th>2021-05-18</th>\n",
       "      <td>114.11</td>\n",
       "      <td>114.1100</td>\n",
       "      <td>114.03</td>\n",
       "      <td>114.070</td>\n",
       "      <td>3499293</td>\n",
       "      <td>-0.000832</td>\n",
       "      <td>415.80</td>\n",
       "      <td>416.060</td>\n",
       "      <td>411.770</td>\n",
       "      <td>411.99</td>\n",
       "      <td>52318865</td>\n",
       "      <td>-0.008567</td>\n",
       "    </tr>\n",
       "    <tr>\n",
       "      <th>2021-05-19</th>\n",
       "      <td>114.62</td>\n",
       "      <td>114.6200</td>\n",
       "      <td>113.79</td>\n",
       "      <td>113.920</td>\n",
       "      <td>6576312</td>\n",
       "      <td>-0.001315</td>\n",
       "      <td>406.92</td>\n",
       "      <td>411.050</td>\n",
       "      <td>405.335</td>\n",
       "      <td>410.90</td>\n",
       "      <td>94165741</td>\n",
       "      <td>-0.002646</td>\n",
       "    </tr>\n",
       "    <tr>\n",
       "      <th>2021-05-20</th>\n",
       "      <td>114.08</td>\n",
       "      <td>114.3000</td>\n",
       "      <td>114.08</td>\n",
       "      <td>114.290</td>\n",
       "      <td>5647134</td>\n",
       "      <td>0.003248</td>\n",
       "      <td>411.80</td>\n",
       "      <td>416.625</td>\n",
       "      <td>411.670</td>\n",
       "      <td>415.24</td>\n",
       "      <td>69426295</td>\n",
       "      <td>0.010562</td>\n",
       "    </tr>\n",
       "    <tr>\n",
       "      <th>2021-05-21</th>\n",
       "      <td>114.36</td>\n",
       "      <td>114.4000</td>\n",
       "      <td>114.23</td>\n",
       "      <td>114.320</td>\n",
       "      <td>3350907</td>\n",
       "      <td>0.000262</td>\n",
       "      <td>416.87</td>\n",
       "      <td>418.200</td>\n",
       "      <td>414.450</td>\n",
       "      <td>414.95</td>\n",
       "      <td>66392970</td>\n",
       "      <td>-0.000698</td>\n",
       "    </tr>\n",
       "  </tbody>\n",
       "</table>\n",
       "</div>"
      ],
      "text/plain": [
       "               AGG                                                      SPY  \\\n",
       "              open      high     low    close   volume daily_return    open   \n",
       "2021-05-17  114.21  115.4999  111.26  114.165  3852318          NaN  415.39   \n",
       "2021-05-18  114.11  114.1100  114.03  114.070  3499293    -0.000832  415.80   \n",
       "2021-05-19  114.62  114.6200  113.79  113.920  6576312    -0.001315  406.92   \n",
       "2021-05-20  114.08  114.3000  114.08  114.290  5647134     0.003248  411.80   \n",
       "2021-05-21  114.36  114.4000  114.23  114.320  3350907     0.000262  416.87   \n",
       "\n",
       "                                                             \n",
       "               high      low   close    volume daily_return  \n",
       "2021-05-17  416.390  413.360  415.55  57714535          NaN  \n",
       "2021-05-18  416.060  411.770  411.99  52318865    -0.008567  \n",
       "2021-05-19  411.050  405.335  410.90  94165741    -0.002646  \n",
       "2021-05-20  416.625  411.670  415.24  69426295     0.010562  \n",
       "2021-05-21  418.200  414.450  414.95  66392970    -0.000698  "
      ]
     },
     "execution_count": 41,
     "metadata": {},
     "output_type": "execute_result"
    }
   ],
   "source": [
    "# Printing the simulation input data\n",
    "MC_even_dist.portfolio_data.head()"
   ]
  },
  {
   "cell_type": "code",
   "execution_count": 43,
   "metadata": {},
   "outputs": [
    {
     "name": "stdout",
     "output_type": "stream",
     "text": [
      "Running Monte Carlo simulation number 0.\n",
      "Running Monte Carlo simulation number 10.\n",
      "Running Monte Carlo simulation number 20.\n",
      "Running Monte Carlo simulation number 30.\n",
      "Running Monte Carlo simulation number 40.\n",
      "Running Monte Carlo simulation number 50.\n",
      "Running Monte Carlo simulation number 60.\n",
      "Running Monte Carlo simulation number 70.\n",
      "Running Monte Carlo simulation number 80.\n",
      "Running Monte Carlo simulation number 90.\n",
      "Running Monte Carlo simulation number 100.\n",
      "Running Monte Carlo simulation number 110.\n",
      "Running Monte Carlo simulation number 120.\n",
      "Running Monte Carlo simulation number 130.\n",
      "Running Monte Carlo simulation number 140.\n",
      "Running Monte Carlo simulation number 150.\n",
      "Running Monte Carlo simulation number 160.\n",
      "Running Monte Carlo simulation number 170.\n",
      "Running Monte Carlo simulation number 180.\n",
      "Running Monte Carlo simulation number 190.\n",
      "Running Monte Carlo simulation number 200.\n",
      "Running Monte Carlo simulation number 210.\n",
      "Running Monte Carlo simulation number 220.\n",
      "Running Monte Carlo simulation number 230.\n",
      "Running Monte Carlo simulation number 240.\n",
      "Running Monte Carlo simulation number 250.\n",
      "Running Monte Carlo simulation number 260.\n",
      "Running Monte Carlo simulation number 270.\n",
      "Running Monte Carlo simulation number 280.\n",
      "Running Monte Carlo simulation number 290.\n",
      "Running Monte Carlo simulation number 300.\n",
      "Running Monte Carlo simulation number 310.\n",
      "Running Monte Carlo simulation number 320.\n",
      "Running Monte Carlo simulation number 330.\n",
      "Running Monte Carlo simulation number 340.\n",
      "Running Monte Carlo simulation number 350.\n",
      "Running Monte Carlo simulation number 360.\n",
      "Running Monte Carlo simulation number 370.\n",
      "Running Monte Carlo simulation number 380.\n",
      "Running Monte Carlo simulation number 390.\n",
      "Running Monte Carlo simulation number 400.\n",
      "Running Monte Carlo simulation number 410.\n",
      "Running Monte Carlo simulation number 420.\n",
      "Running Monte Carlo simulation number 430.\n",
      "Running Monte Carlo simulation number 440.\n",
      "Running Monte Carlo simulation number 450.\n",
      "Running Monte Carlo simulation number 460.\n",
      "Running Monte Carlo simulation number 470.\n",
      "Running Monte Carlo simulation number 480.\n",
      "Running Monte Carlo simulation number 490.\n"
     ]
    },
    {
     "data": {
      "text/html": [
       "<div>\n",
       "<style scoped>\n",
       "    .dataframe tbody tr th:only-of-type {\n",
       "        vertical-align: middle;\n",
       "    }\n",
       "\n",
       "    .dataframe tbody tr th {\n",
       "        vertical-align: top;\n",
       "    }\n",
       "\n",
       "    .dataframe thead th {\n",
       "        text-align: right;\n",
       "    }\n",
       "</style>\n",
       "<table border=\"1\" class=\"dataframe\">\n",
       "  <thead>\n",
       "    <tr style=\"text-align: right;\">\n",
       "      <th></th>\n",
       "      <th>0</th>\n",
       "      <th>1</th>\n",
       "      <th>2</th>\n",
       "      <th>3</th>\n",
       "      <th>4</th>\n",
       "      <th>5</th>\n",
       "      <th>6</th>\n",
       "      <th>7</th>\n",
       "      <th>8</th>\n",
       "      <th>9</th>\n",
       "      <th>...</th>\n",
       "      <th>490</th>\n",
       "      <th>491</th>\n",
       "      <th>492</th>\n",
       "      <th>493</th>\n",
       "      <th>494</th>\n",
       "      <th>495</th>\n",
       "      <th>496</th>\n",
       "      <th>497</th>\n",
       "      <th>498</th>\n",
       "      <th>499</th>\n",
       "    </tr>\n",
       "  </thead>\n",
       "  <tbody>\n",
       "    <tr>\n",
       "      <th>0</th>\n",
       "      <td>1.000000</td>\n",
       "      <td>1.000000</td>\n",
       "      <td>1.000000</td>\n",
       "      <td>1.000000</td>\n",
       "      <td>1.000000</td>\n",
       "      <td>1.000000</td>\n",
       "      <td>1.000000</td>\n",
       "      <td>1.000000</td>\n",
       "      <td>1.000000</td>\n",
       "      <td>1.000000</td>\n",
       "      <td>...</td>\n",
       "      <td>1.000000</td>\n",
       "      <td>1.000000</td>\n",
       "      <td>1.000000</td>\n",
       "      <td>1.000000</td>\n",
       "      <td>1.000000</td>\n",
       "      <td>1.000000</td>\n",
       "      <td>1.000000</td>\n",
       "      <td>1.000000</td>\n",
       "      <td>1.000000</td>\n",
       "      <td>1.000000</td>\n",
       "    </tr>\n",
       "    <tr>\n",
       "      <th>1</th>\n",
       "      <td>1.004076</td>\n",
       "      <td>0.998525</td>\n",
       "      <td>0.998910</td>\n",
       "      <td>0.999694</td>\n",
       "      <td>0.992166</td>\n",
       "      <td>0.993696</td>\n",
       "      <td>0.994591</td>\n",
       "      <td>0.994827</td>\n",
       "      <td>1.000292</td>\n",
       "      <td>0.998747</td>\n",
       "      <td>...</td>\n",
       "      <td>1.004292</td>\n",
       "      <td>1.004841</td>\n",
       "      <td>1.006522</td>\n",
       "      <td>0.999821</td>\n",
       "      <td>1.001870</td>\n",
       "      <td>0.998763</td>\n",
       "      <td>0.995887</td>\n",
       "      <td>0.996609</td>\n",
       "      <td>1.001050</td>\n",
       "      <td>1.001214</td>\n",
       "    </tr>\n",
       "    <tr>\n",
       "      <th>2</th>\n",
       "      <td>0.996817</td>\n",
       "      <td>0.997217</td>\n",
       "      <td>1.005500</td>\n",
       "      <td>0.995768</td>\n",
       "      <td>1.000719</td>\n",
       "      <td>0.996345</td>\n",
       "      <td>0.991092</td>\n",
       "      <td>0.989667</td>\n",
       "      <td>1.003807</td>\n",
       "      <td>1.000818</td>\n",
       "      <td>...</td>\n",
       "      <td>0.997806</td>\n",
       "      <td>1.003469</td>\n",
       "      <td>1.009740</td>\n",
       "      <td>1.002405</td>\n",
       "      <td>0.998594</td>\n",
       "      <td>0.999001</td>\n",
       "      <td>1.001032</td>\n",
       "      <td>0.998327</td>\n",
       "      <td>1.000305</td>\n",
       "      <td>1.003011</td>\n",
       "    </tr>\n",
       "    <tr>\n",
       "      <th>3</th>\n",
       "      <td>1.000630</td>\n",
       "      <td>1.001917</td>\n",
       "      <td>1.005167</td>\n",
       "      <td>0.992843</td>\n",
       "      <td>0.990942</td>\n",
       "      <td>0.994866</td>\n",
       "      <td>0.987237</td>\n",
       "      <td>0.988819</td>\n",
       "      <td>0.993776</td>\n",
       "      <td>1.001664</td>\n",
       "      <td>...</td>\n",
       "      <td>1.009913</td>\n",
       "      <td>1.000960</td>\n",
       "      <td>1.008281</td>\n",
       "      <td>1.007625</td>\n",
       "      <td>1.000133</td>\n",
       "      <td>1.003019</td>\n",
       "      <td>0.999633</td>\n",
       "      <td>0.994299</td>\n",
       "      <td>0.988805</td>\n",
       "      <td>1.000098</td>\n",
       "    </tr>\n",
       "    <tr>\n",
       "      <th>4</th>\n",
       "      <td>0.999198</td>\n",
       "      <td>1.004895</td>\n",
       "      <td>1.006887</td>\n",
       "      <td>0.994030</td>\n",
       "      <td>0.999406</td>\n",
       "      <td>1.001728</td>\n",
       "      <td>0.987318</td>\n",
       "      <td>0.991441</td>\n",
       "      <td>0.996158</td>\n",
       "      <td>1.008881</td>\n",
       "      <td>...</td>\n",
       "      <td>1.005988</td>\n",
       "      <td>0.996539</td>\n",
       "      <td>1.007653</td>\n",
       "      <td>1.000871</td>\n",
       "      <td>0.999583</td>\n",
       "      <td>1.003091</td>\n",
       "      <td>1.003605</td>\n",
       "      <td>0.995055</td>\n",
       "      <td>0.993352</td>\n",
       "      <td>1.001126</td>\n",
       "    </tr>\n",
       "    <tr>\n",
       "      <th>...</th>\n",
       "      <td>...</td>\n",
       "      <td>...</td>\n",
       "      <td>...</td>\n",
       "      <td>...</td>\n",
       "      <td>...</td>\n",
       "      <td>...</td>\n",
       "      <td>...</td>\n",
       "      <td>...</td>\n",
       "      <td>...</td>\n",
       "      <td>...</td>\n",
       "      <td>...</td>\n",
       "      <td>...</td>\n",
       "      <td>...</td>\n",
       "      <td>...</td>\n",
       "      <td>...</td>\n",
       "      <td>...</td>\n",
       "      <td>...</td>\n",
       "      <td>...</td>\n",
       "      <td>...</td>\n",
       "      <td>...</td>\n",
       "      <td>...</td>\n",
       "    </tr>\n",
       "    <tr>\n",
       "      <th>7556</th>\n",
       "      <td>0.538920</td>\n",
       "      <td>0.443575</td>\n",
       "      <td>0.387819</td>\n",
       "      <td>0.932786</td>\n",
       "      <td>0.612580</td>\n",
       "      <td>0.619071</td>\n",
       "      <td>0.595318</td>\n",
       "      <td>0.347907</td>\n",
       "      <td>0.502358</td>\n",
       "      <td>0.490611</td>\n",
       "      <td>...</td>\n",
       "      <td>0.435341</td>\n",
       "      <td>0.502754</td>\n",
       "      <td>0.887459</td>\n",
       "      <td>0.612400</td>\n",
       "      <td>0.208811</td>\n",
       "      <td>0.310104</td>\n",
       "      <td>0.710707</td>\n",
       "      <td>0.197027</td>\n",
       "      <td>0.257577</td>\n",
       "      <td>0.485017</td>\n",
       "    </tr>\n",
       "    <tr>\n",
       "      <th>7557</th>\n",
       "      <td>0.534745</td>\n",
       "      <td>0.442140</td>\n",
       "      <td>0.389048</td>\n",
       "      <td>0.937330</td>\n",
       "      <td>0.612421</td>\n",
       "      <td>0.615842</td>\n",
       "      <td>0.597256</td>\n",
       "      <td>0.350242</td>\n",
       "      <td>0.502775</td>\n",
       "      <td>0.487734</td>\n",
       "      <td>...</td>\n",
       "      <td>0.434763</td>\n",
       "      <td>0.503777</td>\n",
       "      <td>0.884052</td>\n",
       "      <td>0.615854</td>\n",
       "      <td>0.208995</td>\n",
       "      <td>0.310996</td>\n",
       "      <td>0.708009</td>\n",
       "      <td>0.197547</td>\n",
       "      <td>0.258029</td>\n",
       "      <td>0.482652</td>\n",
       "    </tr>\n",
       "    <tr>\n",
       "      <th>7558</th>\n",
       "      <td>0.535298</td>\n",
       "      <td>0.437803</td>\n",
       "      <td>0.388287</td>\n",
       "      <td>0.939454</td>\n",
       "      <td>0.613225</td>\n",
       "      <td>0.618750</td>\n",
       "      <td>0.599010</td>\n",
       "      <td>0.349271</td>\n",
       "      <td>0.503660</td>\n",
       "      <td>0.490975</td>\n",
       "      <td>...</td>\n",
       "      <td>0.432747</td>\n",
       "      <td>0.505706</td>\n",
       "      <td>0.878048</td>\n",
       "      <td>0.612621</td>\n",
       "      <td>0.210423</td>\n",
       "      <td>0.310718</td>\n",
       "      <td>0.708511</td>\n",
       "      <td>0.197200</td>\n",
       "      <td>0.257079</td>\n",
       "      <td>0.479956</td>\n",
       "    </tr>\n",
       "    <tr>\n",
       "      <th>7559</th>\n",
       "      <td>0.537829</td>\n",
       "      <td>0.434158</td>\n",
       "      <td>0.387828</td>\n",
       "      <td>0.936354</td>\n",
       "      <td>0.610110</td>\n",
       "      <td>0.621799</td>\n",
       "      <td>0.598755</td>\n",
       "      <td>0.347915</td>\n",
       "      <td>0.503066</td>\n",
       "      <td>0.490696</td>\n",
       "      <td>...</td>\n",
       "      <td>0.433719</td>\n",
       "      <td>0.504791</td>\n",
       "      <td>0.877954</td>\n",
       "      <td>0.612558</td>\n",
       "      <td>0.209316</td>\n",
       "      <td>0.312200</td>\n",
       "      <td>0.705127</td>\n",
       "      <td>0.197403</td>\n",
       "      <td>0.255950</td>\n",
       "      <td>0.478121</td>\n",
       "    </tr>\n",
       "    <tr>\n",
       "      <th>7560</th>\n",
       "      <td>0.537376</td>\n",
       "      <td>0.433948</td>\n",
       "      <td>0.387538</td>\n",
       "      <td>0.933474</td>\n",
       "      <td>0.613716</td>\n",
       "      <td>0.619212</td>\n",
       "      <td>0.593864</td>\n",
       "      <td>0.348297</td>\n",
       "      <td>0.499459</td>\n",
       "      <td>0.494201</td>\n",
       "      <td>...</td>\n",
       "      <td>0.431992</td>\n",
       "      <td>0.498724</td>\n",
       "      <td>0.873138</td>\n",
       "      <td>0.613112</td>\n",
       "      <td>0.210619</td>\n",
       "      <td>0.310781</td>\n",
       "      <td>0.704571</td>\n",
       "      <td>0.195538</td>\n",
       "      <td>0.256027</td>\n",
       "      <td>0.478284</td>\n",
       "    </tr>\n",
       "  </tbody>\n",
       "</table>\n",
       "<p>7561 rows × 500 columns</p>\n",
       "</div>"
      ],
      "text/plain": [
       "           0         1         2         3         4         5         6    \\\n",
       "0     1.000000  1.000000  1.000000  1.000000  1.000000  1.000000  1.000000   \n",
       "1     1.004076  0.998525  0.998910  0.999694  0.992166  0.993696  0.994591   \n",
       "2     0.996817  0.997217  1.005500  0.995768  1.000719  0.996345  0.991092   \n",
       "3     1.000630  1.001917  1.005167  0.992843  0.990942  0.994866  0.987237   \n",
       "4     0.999198  1.004895  1.006887  0.994030  0.999406  1.001728  0.987318   \n",
       "...        ...       ...       ...       ...       ...       ...       ...   \n",
       "7556  0.538920  0.443575  0.387819  0.932786  0.612580  0.619071  0.595318   \n",
       "7557  0.534745  0.442140  0.389048  0.937330  0.612421  0.615842  0.597256   \n",
       "7558  0.535298  0.437803  0.388287  0.939454  0.613225  0.618750  0.599010   \n",
       "7559  0.537829  0.434158  0.387828  0.936354  0.610110  0.621799  0.598755   \n",
       "7560  0.537376  0.433948  0.387538  0.933474  0.613716  0.619212  0.593864   \n",
       "\n",
       "           7         8         9    ...       490       491       492  \\\n",
       "0     1.000000  1.000000  1.000000  ...  1.000000  1.000000  1.000000   \n",
       "1     0.994827  1.000292  0.998747  ...  1.004292  1.004841  1.006522   \n",
       "2     0.989667  1.003807  1.000818  ...  0.997806  1.003469  1.009740   \n",
       "3     0.988819  0.993776  1.001664  ...  1.009913  1.000960  1.008281   \n",
       "4     0.991441  0.996158  1.008881  ...  1.005988  0.996539  1.007653   \n",
       "...        ...       ...       ...  ...       ...       ...       ...   \n",
       "7556  0.347907  0.502358  0.490611  ...  0.435341  0.502754  0.887459   \n",
       "7557  0.350242  0.502775  0.487734  ...  0.434763  0.503777  0.884052   \n",
       "7558  0.349271  0.503660  0.490975  ...  0.432747  0.505706  0.878048   \n",
       "7559  0.347915  0.503066  0.490696  ...  0.433719  0.504791  0.877954   \n",
       "7560  0.348297  0.499459  0.494201  ...  0.431992  0.498724  0.873138   \n",
       "\n",
       "           493       494       495       496       497       498       499  \n",
       "0     1.000000  1.000000  1.000000  1.000000  1.000000  1.000000  1.000000  \n",
       "1     0.999821  1.001870  0.998763  0.995887  0.996609  1.001050  1.001214  \n",
       "2     1.002405  0.998594  0.999001  1.001032  0.998327  1.000305  1.003011  \n",
       "3     1.007625  1.000133  1.003019  0.999633  0.994299  0.988805  1.000098  \n",
       "4     1.000871  0.999583  1.003091  1.003605  0.995055  0.993352  1.001126  \n",
       "...        ...       ...       ...       ...       ...       ...       ...  \n",
       "7556  0.612400  0.208811  0.310104  0.710707  0.197027  0.257577  0.485017  \n",
       "7557  0.615854  0.208995  0.310996  0.708009  0.197547  0.258029  0.482652  \n",
       "7558  0.612621  0.210423  0.310718  0.708511  0.197200  0.257079  0.479956  \n",
       "7559  0.612558  0.209316  0.312200  0.705127  0.197403  0.255950  0.478121  \n",
       "7560  0.613112  0.210619  0.310781  0.704571  0.195538  0.256027  0.478284  \n",
       "\n",
       "[7561 rows x 500 columns]"
      ]
     },
     "execution_count": 43,
     "metadata": {},
     "output_type": "execute_result"
    }
   ],
   "source": [
    "# Running a Monte Carlo simulation to forecast 30 years cumulative returns\n",
    "MC_even_dist.calc_cumulative_return()"
   ]
  },
  {
   "cell_type": "code",
   "execution_count": 45,
   "metadata": {},
   "outputs": [
    {
     "data": {
      "image/png": "[encoded data removed]",
      "text/plain": [
       "<Figure size 432x288 with 1 Axes>"
      ]
     },
     "metadata": {
      "needs_background": "light"
     },
     "output_type": "display_data"
    }
   ],
   "source": [
    "# Plot simulation outcomes\n",
    "line_plot = MC_even_dist.plot_simulation()"
   ]
  },
  {
   "cell_type": "code",
   "execution_count": 46,
   "metadata": {},
   "outputs": [
    {
     "data": {
      "image/png": "[encoded data removed]",
      "text/plain": [
       "<Figure size 432x288 with 1 Axes>"
      ]
     },
     "metadata": {
      "needs_background": "light"
     },
     "output_type": "display_data"
    }
   ],
   "source": [
    "# Plot probability distribution and confidence intervals\n",
    "dist_plot = MC_even_dist.plot_distribution()"
   ]
  },
  {
   "cell_type": "markdown",
   "metadata": {},
   "source": [
    "### Retirement Analysis"
   ]
  },
  {
   "cell_type": "code",
   "execution_count": 47,
   "metadata": {},
   "outputs": [
    {
     "name": "stdout",
     "output_type": "stream",
     "text": [
      "count           500.000000\n",
      "mean              0.594084\n",
      "std               0.264654\n",
      "min               0.145083\n",
      "25%               0.409909\n",
      "50%               0.535873\n",
      "75%               0.721518\n",
      "max               2.185690\n",
      "95% CI Lower      0.230064\n",
      "95% CI Upper      1.195913\n",
      "Name: 7560, dtype: float64\n"
     ]
    }
   ],
   "source": [
    "# Fetch summary statistics from the Monte Carlo simulation results\n",
    "even_tbl = MC_even_dist.summarize_cumulative_return()\n",
    "# Print summary statistics\n",
    "print(even_tbl)"
   ]
  },
  {
   "cell_type": "markdown",
   "metadata": {},
   "source": [
    "### Calculate the expected portfolio return at the 95% lower and upper confidence intervals based on a `$20,000` initial investment."
   ]
  },
  {
   "cell_type": "code",
   "execution_count": 49,
   "metadata": {},
   "outputs": [
    {
     "name": "stdout",
     "output_type": "stream",
     "text": [
      "There is a 95% chance that an initial investment of $20000 in the portfolio over the next 30 years will end within in the range of $4601.28 and $23918.26\n"
     ]
    }
   ],
   "source": [
    "# Set initial investment\n",
    "initial_investment = 20000\n",
    "\n",
    "# Use the lower and upper `95%` confidence intervals to calculate the range of the possible outcomes of our $20,000\n",
    "ci_lower = round(even_tbl[8]*20000,2)\n",
    "ci_upper = round(even_tbl[9]*20000,2)\n",
    "\n",
    "# Print results\n",
    "print(f\"There is a 95% chance that an initial investment of ${initial_investment} in the portfolio\"\n",
    "      f\" over the next 30 years will end within in the range of\"\n",
    "      f\" ${ci_lower} and ${ci_upper}\")"
   ]
  },
  {
   "cell_type": "markdown",
   "metadata": {},
   "source": [
    "### Calculate the expected portfolio return at the `95%` lower and upper confidence intervals based on a `50%` increase in the initial investment."
   ]
  },
  {
   "cell_type": "code",
   "execution_count": 50,
   "metadata": {},
   "outputs": [
    {
     "name": "stdout",
     "output_type": "stream",
     "text": [
      "There is a 95% chance that an initial investment of $30000.0 in the portfolio over the next 30 years will end within in the range of $6901.93 and $35877.38\n"
     ]
    }
   ],
   "source": [
    "# Set initial investment\n",
    "initial_investment = 20000 * 1.5\n",
    "\n",
    "# Use the lower and upper `95%` confidence intervals to calculate the range of the possible outcomes of our $30,000\n",
    "ci_lower = round(even_tbl[8]*30000,2)\n",
    "ci_upper = round(even_tbl[9]*30000,2)\n",
    "\n",
    "# Print results\n",
    "print(f\"There is a 95% chance that an initial investment of ${initial_investment} in the portfolio\"\n",
    "      f\" over the next 30 years will end within in the range of\"\n",
    "      f\" ${ci_lower} and ${ci_upper}\")"
   ]
  },
  {
   "cell_type": "markdown",
   "metadata": {},
   "source": [
    "## Optional Challenge - Early Retirement\n",
    "\n",
    "\n",
    "### Five Years Retirement Option"
   ]
  },
  {
   "cell_type": "code",
   "execution_count": 51,
   "metadata": {},
   "outputs": [
    {
     "data": {
      "text/html": [
       "<div>\n",
       "<style scoped>\n",
       "    .dataframe tbody tr th:only-of-type {\n",
       "        vertical-align: middle;\n",
       "    }\n",
       "\n",
       "    .dataframe tbody tr th {\n",
       "        vertical-align: top;\n",
       "    }\n",
       "\n",
       "    .dataframe thead tr th {\n",
       "        text-align: left;\n",
       "    }\n",
       "</style>\n",
       "<table border=\"1\" class=\"dataframe\">\n",
       "  <thead>\n",
       "    <tr>\n",
       "      <th></th>\n",
       "      <th colspan=\"6\" halign=\"left\">AGG</th>\n",
       "      <th colspan=\"6\" halign=\"left\">SPY</th>\n",
       "    </tr>\n",
       "    <tr>\n",
       "      <th></th>\n",
       "      <th>open</th>\n",
       "      <th>high</th>\n",
       "      <th>low</th>\n",
       "      <th>close</th>\n",
       "      <th>volume</th>\n",
       "      <th>daily_return</th>\n",
       "      <th>open</th>\n",
       "      <th>high</th>\n",
       "      <th>low</th>\n",
       "      <th>close</th>\n",
       "      <th>volume</th>\n",
       "      <th>daily_return</th>\n",
       "    </tr>\n",
       "  </thead>\n",
       "  <tbody>\n",
       "    <tr>\n",
       "      <th>2021-05-17</th>\n",
       "      <td>114.21</td>\n",
       "      <td>115.4999</td>\n",
       "      <td>111.26</td>\n",
       "      <td>114.165</td>\n",
       "      <td>3852318</td>\n",
       "      <td>NaN</td>\n",
       "      <td>415.39</td>\n",
       "      <td>416.390</td>\n",
       "      <td>413.360</td>\n",
       "      <td>415.55</td>\n",
       "      <td>57714535</td>\n",
       "      <td>NaN</td>\n",
       "    </tr>\n",
       "    <tr>\n",
       "      <th>2021-05-18</th>\n",
       "      <td>114.11</td>\n",
       "      <td>114.1100</td>\n",
       "      <td>114.03</td>\n",
       "      <td>114.070</td>\n",
       "      <td>3499293</td>\n",
       "      <td>-0.000832</td>\n",
       "      <td>415.80</td>\n",
       "      <td>416.060</td>\n",
       "      <td>411.770</td>\n",
       "      <td>411.99</td>\n",
       "      <td>52318865</td>\n",
       "      <td>-0.008567</td>\n",
       "    </tr>\n",
       "    <tr>\n",
       "      <th>2021-05-19</th>\n",
       "      <td>114.62</td>\n",
       "      <td>114.6200</td>\n",
       "      <td>113.79</td>\n",
       "      <td>113.920</td>\n",
       "      <td>6576312</td>\n",
       "      <td>-0.001315</td>\n",
       "      <td>406.92</td>\n",
       "      <td>411.050</td>\n",
       "      <td>405.335</td>\n",
       "      <td>410.90</td>\n",
       "      <td>94165741</td>\n",
       "      <td>-0.002646</td>\n",
       "    </tr>\n",
       "    <tr>\n",
       "      <th>2021-05-20</th>\n",
       "      <td>114.08</td>\n",
       "      <td>114.3000</td>\n",
       "      <td>114.08</td>\n",
       "      <td>114.290</td>\n",
       "      <td>5647134</td>\n",
       "      <td>0.003248</td>\n",
       "      <td>411.80</td>\n",
       "      <td>416.625</td>\n",
       "      <td>411.670</td>\n",
       "      <td>415.24</td>\n",
       "      <td>69426295</td>\n",
       "      <td>0.010562</td>\n",
       "    </tr>\n",
       "    <tr>\n",
       "      <th>2021-05-21</th>\n",
       "      <td>114.36</td>\n",
       "      <td>114.4000</td>\n",
       "      <td>114.23</td>\n",
       "      <td>114.320</td>\n",
       "      <td>3350907</td>\n",
       "      <td>0.000262</td>\n",
       "      <td>416.87</td>\n",
       "      <td>418.200</td>\n",
       "      <td>414.450</td>\n",
       "      <td>414.95</td>\n",
       "      <td>66392970</td>\n",
       "      <td>-0.000698</td>\n",
       "    </tr>\n",
       "  </tbody>\n",
       "</table>\n",
       "</div>"
      ],
      "text/plain": [
       "               AGG                                                      SPY  \\\n",
       "              open      high     low    close   volume daily_return    open   \n",
       "2021-05-17  114.21  115.4999  111.26  114.165  3852318          NaN  415.39   \n",
       "2021-05-18  114.11  114.1100  114.03  114.070  3499293    -0.000832  415.80   \n",
       "2021-05-19  114.62  114.6200  113.79  113.920  6576312    -0.001315  406.92   \n",
       "2021-05-20  114.08  114.3000  114.08  114.290  5647134     0.003248  411.80   \n",
       "2021-05-21  114.36  114.4000  114.23  114.320  3350907     0.000262  416.87   \n",
       "\n",
       "                                                             \n",
       "               high      low   close    volume daily_return  \n",
       "2021-05-17  416.390  413.360  415.55  57714535          NaN  \n",
       "2021-05-18  416.060  411.770  411.99  52318865    -0.008567  \n",
       "2021-05-19  411.050  405.335  410.90  94165741    -0.002646  \n",
       "2021-05-20  416.625  411.670  415.24  69426295     0.010562  \n",
       "2021-05-21  418.200  414.450  414.95  66392970    -0.000698  "
      ]
     },
     "execution_count": 51,
     "metadata": {},
     "output_type": "execute_result"
    }
   ],
   "source": [
    "# Configuring a Monte Carlo simulation to forecast 5 years cumulative returns\n",
    "MC_even_dist_five = MCSimulation(portfolio_data = df_stock_data, weights = [.40,.60], num_simulation = 500, num_trading_days = 252*5)\n",
    "MC_even_dist_five.portfolio_data.head()"
   ]
  },
  {
   "cell_type": "code",
   "execution_count": null,
   "metadata": {},
   "outputs": [],
   "source": [
    "# Running a Monte Carlo simulation to forecast 5 years cumulative returns\n",
    "# YOUR CODE HERE!"
   ]
  },
  {
   "cell_type": "code",
   "execution_count": null,
   "metadata": {},
   "outputs": [],
   "source": [
    "# Plot simulation outcomes\n",
    "# YOUR CODE HERE!"
   ]
  },
  {
   "cell_type": "code",
   "execution_count": null,
   "metadata": {},
   "outputs": [],
   "source": [
    "# Plot probability distribution and confidence intervals\n",
    "# YOUR CODE HERE!"
   ]
  },
  {
   "cell_type": "code",
   "execution_count": null,
   "metadata": {},
   "outputs": [],
   "source": [
    "# Fetch summary statistics from the Monte Carlo simulation results\n",
    "# YOUR CODE HERE!\n",
    "\n",
    "# Print summary statistics\n",
    "# YOUR CODE HERE!"
   ]
  },
  {
   "cell_type": "code",
   "execution_count": null,
   "metadata": {},
   "outputs": [],
   "source": [
    "# Set initial investment\n",
    "# YOUR CODE HERE!\n",
    "\n",
    "# Use the lower and upper `95%` confidence intervals to calculate the range of the possible outcomes of our $60,000\n",
    "# YOUR CODE HERE!\n",
    "\n",
    "# Print results\n",
    "print(f\"There is a 95% chance that an initial investment of ${initial_investment} in the portfolio\"\n",
    "      f\" over the next 5 years will end within in the range of\"\n",
    "      f\" ${ci_lower_five} and ${ci_upper_five}\")"
   ]
  },
  {
   "cell_type": "markdown",
   "metadata": {},
   "source": [
    "### Ten Years Retirement Option"
   ]
  },
  {
   "cell_type": "code",
   "execution_count": null,
   "metadata": {},
   "outputs": [],
   "source": [
    "# Configuring a Monte Carlo simulation to forecast 10 years cumulative returns\n",
    "# YOUR CODE HERE!"
   ]
  },
  {
   "cell_type": "code",
   "execution_count": null,
   "metadata": {},
   "outputs": [],
   "source": [
    "# Running a Monte Carlo simulation to forecast 10 years cumulative returns\n",
    "# YOUR CODE HERE!"
   ]
  },
  {
   "cell_type": "code",
   "execution_count": null,
   "metadata": {},
   "outputs": [],
   "source": [
    "# Plot simulation outcomes\n",
    "# YOUR CODE HERE!"
   ]
  },
  {
   "cell_type": "code",
   "execution_count": null,
   "metadata": {},
   "outputs": [],
   "source": [
    "# Plot probability distribution and confidence intervals\n",
    "# YOUR CODE HERE!"
   ]
  },
  {
   "cell_type": "code",
   "execution_count": null,
   "metadata": {},
   "outputs": [],
   "source": [
    "# Fetch summary statistics from the Monte Carlo simulation results\n",
    "# YOUR CODE HERE!\n",
    "\n",
    "# Print summary statistics\n",
    "# YOUR CODE HERE!"
   ]
  },
  {
   "cell_type": "code",
   "execution_count": null,
   "metadata": {},
   "outputs": [],
   "source": [
    "# Set initial investment\n",
    "# YOUR CODE HERE!\n",
    "\n",
    "# Use the lower and upper `95%` confidence intervals to calculate the range of the possible outcomes of our $60,000\n",
    "# YOUR CODE HERE!\n",
    "\n",
    "# Print results\n",
    "print(f\"There is a 95% chance that an initial investment of ${initial_investment} in the portfolio\"\n",
    "      f\" over the next 10 years will end within in the range of\"\n",
    "      f\" ${ci_lower_ten} and ${ci_upper_ten}\")"
   ]
  },
  {
   "cell_type": "code",
   "execution_count": null,
   "metadata": {},
   "outputs": [],
   "source": []
  }
 ],
 "metadata": {
  "kernelspec": {
   "display_name": "Python 3",
   "language": "python",
   "name": "python3"
  },
  "language_info": {
   "codemirror_mode": {
    "name": "ipython",
    "version": 3
   },
   "file_extension": ".py",
   "mimetype": "text/x-python",
   "name": "python",
   "nbconvert_exporter": "python",
   "pygments_lexer": "ipython3",
   "version": "3.8.5"
  }
 },
 "nbformat": 4,
 "nbformat_minor": 4
}
